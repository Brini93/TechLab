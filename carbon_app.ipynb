{
 "metadata": {
  "language_info": {
   "codemirror_mode": {
    "name": "ipython",
    "version": 3
   },
   "file_extension": ".py",
   "mimetype": "text/x-python",
   "name": "python",
   "nbconvert_exporter": "python",
   "pygments_lexer": "ipython3",
   "version": 3
  },
  "orig_nbformat": 2
 },
 "nbformat": 4,
 "nbformat_minor": 2,
 "cells": [
  {
   "cell_type": "code",
   "execution_count": null,
   "metadata": {},
   "outputs": [],
   "source": [
    "# Import modules\n",
    "import pandas as pd\n",
    "import numpy as np\n",
    "import lightgbm as lgb\n",
    "from tqdm import tqdm\n",
    "from urllib import request"
   ]
  },
  {
   "cell_type": "code",
   "execution_count": null,
   "metadata": {},
   "outputs": [],
   "source": [
    "# Load data\n",
    "df = pd.read_csv(\"en.openfoodfacts.org.products.csv\", sep=\"\\t\")"
   ]
  },
  {
   "cell_type": "code",
   "execution_count": null,
   "metadata": {},
   "outputs": [],
   "source": [
    "# Define columns of dataframe\n",
    "df = df[[\n",
    "    \"code\",\n",
    "    \"product_name\",\n",
    "    \"brands\",\n",
    "    \"image_url\",\n",
    "    \"energy-kcal_100g\",\n",
    "    \"fat_100g\",\n",
    "    \"saturated-fat_100g\",\n",
    "    \"proteins_100g\",\n",
    "    \"carbohydrates_100g\",\n",
    "    \"fiber_100g\",\n",
    "    \"sugars_100g\",\n",
    "    \"salt_100g\",\n",
    "    \"nova_group\",\n",
    "]]"
   ]
  },
  {
   "cell_type": "code",
   "execution_count": null,
   "metadata": {},
   "outputs": [],
   "source": [
    "# Change type of column 'code'\n",
    "df['code'] = df['code'].astype(str)"
   ]
  },
  {
   "cell_type": "code",
   "execution_count": null,
   "metadata": {},
   "outputs": [],
   "source": [
    "# Remove missing values in dataframe for columns\n",
    "df = df.dropna(subset=[\"proteins_100g\",\"fat_100g\",\"carbohydrates_100g\"])"
   ]
  },
  {
   "cell_type": "code",
   "execution_count": null,
   "metadata": {},
   "outputs": [],
   "source": [
    "# Return a random sample of items from an axis of object\n",
    "df = df.sample(frac=1, random_state=42)\n",
    "\n",
    "x_cols = [\n",
    "    \"carbon-footprint_100g\",\n",
    "    \"carbon-footprint-from-meat-or-fish_100g\",\n",
    "    \"nutriscore_grade\",\n",
    "    \"origins\",\n",
    "    \"manufacturing_places\",\n",
    "    \"labels\"\n",
    "]\n",
    "y_col = \"nova_group\"\n",
    "\n",
    "df_test = df[df[y_col].isna()]\n",
    "df = df = df[~df[y_col].isna()]\n",
    "len(df)\n"
   ]
  }
 ]
}